{
 "cells": [
  {
   "cell_type": "code",
   "execution_count": 91,
   "metadata": {
    "collapsed": false
   },
   "outputs": [
    {
     "data": {
      "text/plain": [
       "1"
      ]
     },
     "execution_count": 91,
     "metadata": {},
     "output_type": "execute_result"
    }
   ],
   "source": [
    "import requests\n",
    "from HTMLParser import HTMLParser\n",
    "from BeautifulSoup import BeautifulSoup\n",
    "import sys\n",
    "import pandas as pd\n",
    "import os\n",
    "#reload(sys)  # Reload does the trick!\n",
    "#sys.setdefaultencoding('UTF8')\n",
    "page='jng3zgqw'\n",
    "headers = {'content-type': 'application/json'}\n",
    "url='https://www.gofundme.com/mvc.php?route=donate/pagingdonationsb&url='+page+'&idx=1'\n",
    "response=requests.post(url, headers=headers)\n",
    "soup = BeautifulSoup(response.text)\n",
    "links = soup.findAll(\"div\", { \"class\" : \"section_head\" })\n",
    "c=int(str(links).split(' DONATIONS')[0].split('[<div class=\"section_head\">')[1].strip())\n",
    "c"
   ]
  },
  {
   "cell_type": "code",
   "execution_count": 95,
   "metadata": {
    "collapsed": false
   },
   "outputs": [],
   "source": [
    "if os.path.isfile(page+'.csv'):\n",
    "    df=pd.read_csv(page+'.csv',header=None)\n",
    "else:\n",
    "    for i in reversed(range(c/10+1)):\n",
    "        idx=i*10\n",
    "        url='https://www.gofundme.com/mvc.php?route=donate/pagingdonationsb&url='+page+'&idx='+str(idx)\n",
    "        response=requests.post(url, headers=headers)\n",
    "        soup = BeautifulSoup(response.text)\n",
    "        donors = soup.findAll(\"div\", { \"class\" : \"doner\" })\n",
    "        for d in reversed(donors):\n",
    "            line=str(d.findAll(\"div\", { \"class\" : \"dtime\" })).split('[<div class=\"dtime\">')[1].split('</div>]')[0].strip()\n",
    "            tweet= str(d.findAll(\"div\",{ \"title\": \"This donor posted this page to Twitter.\"}))\n",
    "            face=str(d.findAll(\"div\",{ \"title\": \"This donor shared this page with Facebook friends.\"}))\n",
    "            out=open(page+'.csv','a')\n",
    "            out.write(line+' '+tweet+face+'\\n')\n",
    "        out.close()\n",
    "    df=pd.read_csv(page+'.csv',header=None)"
   ]
  },
  {
   "cell_type": "code",
   "execution_count": 96,
   "metadata": {
    "collapsed": false,
    "scrolled": true
   },
   "outputs": [
    {
     "data": {
      "text/html": [
       "<div>\n",
       "<table border=\"1\" class=\"dataframe\">\n",
       "  <thead>\n",
       "    <tr style=\"text-align: right;\">\n",
       "      <th></th>\n",
       "      <th>0</th>\n",
       "    </tr>\n",
       "  </thead>\n",
       "  <tbody>\n",
       "    <tr>\n",
       "      <th>0</th>\n",
       "      <td>4 days ago [&lt;div title=\"This donor posted this...</td>\n",
       "    </tr>\n",
       "  </tbody>\n",
       "</table>\n",
       "</div>"
      ],
      "text/plain": [
       "                                                   0\n",
       "0  4 days ago [<div title=\"This donor posted this..."
      ]
     },
     "execution_count": 96,
     "metadata": {},
     "output_type": "execute_result"
    }
   ],
   "source": [
    "df"
   ]
  },
  {
   "cell_type": "code",
   "execution_count": 97,
   "metadata": {
    "collapsed": false
   },
   "outputs": [
    {
     "name": "stdout",
     "output_type": "stream",
     "text": [
      "(1, 1)\n"
     ]
    }
   ],
   "source": [
    "print df.shape"
   ]
  },
  {
   "cell_type": "code",
   "execution_count": 98,
   "metadata": {
    "collapsed": false
   },
   "outputs": [
    {
     "data": {
      "text/plain": [
       "0"
      ]
     },
     "execution_count": 98,
     "metadata": {},
     "output_type": "execute_result"
    }
   ],
   "source": [
    "idx"
   ]
  },
  {
   "cell_type": "code",
   "execution_count": 87,
   "metadata": {
    "collapsed": false
   },
   "outputs": [
    {
     "data": {
      "text/plain": [
       "'[<div title=\"This donor posted this page to Twitter.\" class=\"rew_icon rew_tw\"></div>]'"
      ]
     },
     "execution_count": 87,
     "metadata": {},
     "output_type": "execute_result"
    }
   ],
   "source": [
    "tweet"
   ]
  },
  {
   "cell_type": "code",
   "execution_count": 82,
   "metadata": {
    "collapsed": false
   },
   "outputs": [
    {
     "data": {
      "text/plain": [
       "<div class=\"doner\">\n",
       "<div class=\"ddeat\">\n",
       "<div class=\"damt txt1\">\n",
       "<a href=\"#\" id=\"heart-57077859\" data-content-id=\"57077859\" data-content-type=\"donation\" class=\"js-heart fave-contain\" title=\"Be the first to like this\"><input class=\"fave-raw\" type=\"hidden\" value=\"0\" /><div class=\"fave-num\">&nbsp;</div><div class=\"fave-sp\">&nbsp;</div><div class=\"fave-sentence\">Be the first to like this donation</div></a>\n",
       "<span>$</span>20</div>\n",
       "<div class=\"dname\">Jeanine Chait</div>\n",
       "<div class=\"dtime\">\n",
       "                            4 days ago                         </div>\n",
       "</div>\n",
       "<div class=\"dcom\">Merry Christmas Kissee!  </div>\n",
       "<div class=\"rewbox round5 mt20\">\n",
       "<div class=\"lbl1\">\n",
       "<div class=\"lbl2\">\n",
       "<div title=\"This donor shared this page with Facebook friends.\" class=\"rew_icon rew_fb\"></div> <div title=\"This donor posted this page to Twitter.\" class=\"rew_icon rew_tw\"></div> </div>\n",
       "</div>\n",
       "</div>\n",
       "</div>"
      ]
     },
     "execution_count": 82,
     "metadata": {},
     "output_type": "execute_result"
    }
   ],
   "source": [
    "d"
   ]
  },
  {
   "cell_type": "code",
   "execution_count": null,
   "metadata": {
    "collapsed": true
   },
   "outputs": [],
   "source": []
  }
 ],
 "metadata": {
  "hide_input": true,
  "kernelspec": {
   "display_name": "Python 2",
   "language": "python",
   "name": "python2"
  },
  "language_info": {
   "codemirror_mode": {
    "name": "ipython",
    "version": 2
   },
   "file_extension": ".py",
   "mimetype": "text/x-python",
   "name": "python",
   "nbconvert_exporter": "python",
   "pygments_lexer": "ipython2",
   "version": "2.7.10"
  }
 },
 "nbformat": 4,
 "nbformat_minor": 0
}
