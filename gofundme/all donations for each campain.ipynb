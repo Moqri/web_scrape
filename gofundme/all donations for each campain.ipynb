{
 "cells": [
  {
   "cell_type": "code",
   "execution_count": 53,
   "metadata": {
    "collapsed": true
   },
   "outputs": [],
   "source": [
    "from pymongo import MongoClient\n",
    "import pandas as pd\n",
    "import threading\n",
    "import os\n",
    "import requests\n",
    "import BeautifulSoup\n",
    "from BeautifulSoup import BeautifulSoup\n",
    "db=MongoClient('10.247.69.18').crowd\n",
    "global n0\n",
    "def make_df(sort,n):\n",
    "    cursor = db['gofundme_donated'].find({},{\"url\":1,'created_at':1,\"_id\":0},limit =n).sort(\"_id\", sort)\n",
    "    df =  pd.DataFrame(list(cursor))\n",
    "    df.columns=['created_at','url']\n",
    "    return df\n",
    "def collect_donations(page):\n",
    "    headers = {'content-type': 'application/json'}\n",
    "    url='https://www.gofundme.com/mvc.php?route=donate/pagingdonationsb&url='+page+'&idx=1'\n",
    "    response=requests.post(url, headers=headers)\n",
    "    soup = BeautifulSoup(response.text)\n",
    "    links = soup.findAll(\"div\", { \"class\" : \"section_head\" })\n",
    "    c=int(str(links).split(' DONATIONS')[0].split('[<div class=\"section_head\">')[1].strip().replace(\",\", \"\"))\n",
    "    if os.path.isfile('donations/'+page+'.csv'):\n",
    "        df=pd.read_csv('donations/'+page+'.csv',header=None)\n",
    "    else:\n",
    "        for i in reversed(range(c/10+1)):\n",
    "            idx=i*10\n",
    "            url='https://www.gofundme.com/mvc.php?route=donate/pagingdonationsb&url='+page+'&idx='+str(idx)\n",
    "            response=requests.post(url, headers=headers)\n",
    "            soup = BeautifulSoup(response.text)\n",
    "            donors = soup.findAll(\"div\", { \"class\" : \"doner\" })\n",
    "            out=open('donations/'+page+'.csv','a')\n",
    "            for d in reversed(donors):\n",
    "                line=str(d.findAll(\"div\", { \"class\" : \"dtime\" })).split('[<div class=\"dtime\">')[1].split('</div>]')[0].strip()\n",
    "                tweet= str(d.findAll(\"div\",{ \"title\": \"This donor posted this page to Twitter.\"}))\n",
    "                face=str(d.findAll(\"div\",{ \"title\": \"This donor shared this page with Facebook friends.\"}))\n",
    "                out.write(line+tweet+face+'\\n')\n",
    "            out.close()\n",
    "        df=pd.read_csv('donations/'+page+'.csv',header=None)"
   ]
  },
  {
   "cell_type": "code",
   "execution_count": 54,
   "metadata": {
    "collapsed": false
   },
   "outputs": [],
   "source": [
    "df=make_df(-1,10000)\n",
    "df=df[df.url.str.contains('://gofund.me/')]"
   ]
  },
  {
   "cell_type": "code",
   "execution_count": 3,
   "metadata": {
    "collapsed": false,
    "scrolled": true
   },
   "outputs": [],
   "source": [
    "df['page']=df.url.apply(lambda x: x.split('://gofund.me/')[-1])"
   ]
  },
  {
   "cell_type": "code",
   "execution_count": 4,
   "metadata": {
    "collapsed": false,
    "scrolled": true
   },
   "outputs": [
    {
     "data": {
      "text/plain": [
       "61"
      ]
     },
     "execution_count": 4,
     "metadata": {},
     "output_type": "execute_result"
    }
   ],
   "source": [
    "dg=df[df.created_at.str.contains('Dec 24')].groupby('page').count().reset_index()\n",
    "pages=dg.page\n",
    "len(pages)"
   ]
  },
  {
   "cell_type": "code",
   "execution_count": null,
   "metadata": {
    "collapsed": false,
    "scrolled": true
   },
   "outputs": [],
   "source": [
    "for page in pages:\n",
    "    collect_donations(page)"
   ]
  }
 ],
 "metadata": {
  "hide_input": true,
  "kernelspec": {
   "display_name": "Python 2",
   "language": "python",
   "name": "python2"
  },
  "language_info": {
   "codemirror_mode": {
    "name": "ipython",
    "version": 2
   },
   "file_extension": ".py",
   "mimetype": "text/x-python",
   "name": "python",
   "nbconvert_exporter": "python",
   "pygments_lexer": "ipython2",
   "version": "2.7.10"
  }
 },
 "nbformat": 4,
 "nbformat_minor": 0
}
