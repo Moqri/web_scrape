{
 "cells": [
  {
   "cell_type": "code",
   "execution_count": 1,
   "metadata": {
    "collapsed": false
   },
   "outputs": [],
   "source": [
    "from pymongo import MongoClient\n",
    "import pandas as pd\n",
    "import threading\n",
    "import os\n",
    "\n",
    "#import winsound\n",
    "Freq = 2500 # Set Frequency To 2500 Hertz\n",
    "Dur = 1000 # Set Duration To 1000 ms == 1 second\n",
    "db=MongoClient('10.247.69.18').crowd\n",
    "global n0\n",
    "n0=db['gofundme_donated'].count()\n",
    "\n",
    "def make_df(sort,n):\n",
    "    cursor = db['gofundme_donated'].find({},{\"url\":1,\"_id\":0},limit =n).sort(\"_id\", sort)\n",
    "    df =  pd.DataFrame(list(cursor))\n",
    "    df.columns=['url']\n",
    "    return df\n",
    "    \n",
    "def if_new_donation():\n",
    "  global n0\n",
    "  global all\n",
    "  threading.Timer(5.0, if_new_donation).start()\n",
    "  n=db['gofundme_donated'].count()\n",
    "  d=n-n0  \n",
    "  if d> 0:\n",
    "    df=make_df(-1,d)\n",
    "    for i in range(d):\n",
    "        url=df.url[i]\n",
    "        print n,n0,d,i,url\n",
    "        if url in all.url.tolist():\n",
    "            #winsound.Beep(Freq,Dur)\n",
    "            c_donate=all.loc[all['url'] == url].c_donate.values[0]\n",
    "            c_donate=c_donate+1\n",
    "            all = all[all.url != url]\n",
    "            all=all.append(pd.DataFrame([[url,c_donate]],columns=['url','c_donate']))\n",
    "            db['gofundme_url'].delete_one({\"url\":url})\n",
    "            db['gofundme_url'].insert_one({\"url\":url,\"c_donate\":c_donate})\n",
    "        else: \n",
    "            print 'else'\n",
    "            db.gofundme_url.insert_one({\"url\":url,\"c_donate\":1})\n",
    "            all=all.append(pd.DataFrame([[url,1]],columns=['url','c_donate']))            \n",
    "    n0=n\n",
    "    #os.remove('urls.csv')\n",
    "    all.to_csv('urls.csv',index=False)\n",
    "    \n",
    "cursor = db['gofundme_donated'].find({},{\"url\":1,\"_id\":0},limit =10000)\n",
    "if len(list(cursor))==0:\n",
    "    all=pd.DataFrame(columns=['url','c_donate'])\n",
    "else:\n",
    "    cursor=db['gofundme_url'].find({},{\"url\":1,\"c_donate\":1,\"_id\":0},limit =10000)\n",
    "    all=pd.DataFrame(list(cursor),columns=['url','c_donate'])\n",
    "    \n",
    "if_new_donation()"
   ]
  },
  {
   "cell_type": "code",
   "execution_count": 8,
   "metadata": {
    "collapsed": false,
    "scrolled": true
   },
   "outputs": [
    {
     "name": "stdout",
     "output_type": "stream",
     "text": [
      "489 488 1 0 https://gofund.me/aronskidney\n",
      "else\n"
     ]
    },
    {
     "data": {
      "text/html": [
       "<div>\n",
       "<table border=\"1\" class=\"dataframe\">\n",
       "  <thead>\n",
       "    <tr style=\"text-align: right;\">\n",
       "      <th></th>\n",
       "      <th>url</th>\n",
       "      <th>c_donate</th>\n",
       "    </tr>\n",
       "  </thead>\n",
       "  <tbody>\n",
       "    <tr>\n",
       "      <th>1</th>\n",
       "      <td>https://gofund.me/s36wweyg</td>\n",
       "      <td>3</td>\n",
       "    </tr>\n",
       "    <tr>\n",
       "      <th>0</th>\n",
       "      <td>https://gofund.me/z5g4z9d8</td>\n",
       "      <td>2</td>\n",
       "    </tr>\n",
       "    <tr>\n",
       "      <th>0</th>\n",
       "      <td>https://gofund.me/amg89mgs</td>\n",
       "      <td>1</td>\n",
       "    </tr>\n",
       "    <tr>\n",
       "      <th>3</th>\n",
       "      <td>https://gofund.me/HelpKeepJimsFoot</td>\n",
       "      <td>1</td>\n",
       "    </tr>\n",
       "    <tr>\n",
       "      <th>4</th>\n",
       "      <td>https://gofund.me/teamkevo</td>\n",
       "      <td>1</td>\n",
       "    </tr>\n",
       "    <tr>\n",
       "      <th>5</th>\n",
       "      <td>https://gofund.me/blanketssd</td>\n",
       "      <td>1</td>\n",
       "    </tr>\n",
       "    <tr>\n",
       "      <th>6</th>\n",
       "      <td>https://gofund.me/vwfvshtw</td>\n",
       "      <td>1</td>\n",
       "    </tr>\n",
       "    <tr>\n",
       "      <th>7</th>\n",
       "      <td>https://gofund.me/g6e7gwmc</td>\n",
       "      <td>1</td>\n",
       "    </tr>\n",
       "    <tr>\n",
       "      <th>8</th>\n",
       "      <td>https://gofund.me/9gfrtcss</td>\n",
       "      <td>1</td>\n",
       "    </tr>\n",
       "    <tr>\n",
       "      <th>0</th>\n",
       "      <td>https://gofund.me/aronskidney</td>\n",
       "      <td>1</td>\n",
       "    </tr>\n",
       "  </tbody>\n",
       "</table>\n",
       "</div>"
      ],
      "text/plain": [
       "                                  url  c_donate\n",
       "1          https://gofund.me/s36wweyg         3\n",
       "0          https://gofund.me/z5g4z9d8         2\n",
       "0          https://gofund.me/amg89mgs         1\n",
       "3  https://gofund.me/HelpKeepJimsFoot         1\n",
       "4          https://gofund.me/teamkevo         1\n",
       "5        https://gofund.me/blanketssd         1\n",
       "6          https://gofund.me/vwfvshtw         1\n",
       "7          https://gofund.me/g6e7gwmc         1\n",
       "8          https://gofund.me/9gfrtcss         1\n",
       "0       https://gofund.me/aronskidney         1"
      ]
     },
     "execution_count": 8,
     "metadata": {},
     "output_type": "execute_result"
    }
   ],
   "source": [
    "all.sort('c_donate',ascending=False)"
   ]
  },
  {
   "cell_type": "code",
   "execution_count": null,
   "metadata": {
    "collapsed": true
   },
   "outputs": [],
   "source": []
  }
 ],
 "metadata": {
  "hide_input": true,
  "kernelspec": {
   "display_name": "Python 2",
   "language": "python",
   "name": "python2"
  },
  "language_info": {
   "codemirror_mode": {
    "name": "ipython",
    "version": 2
   },
   "file_extension": ".py",
   "mimetype": "text/x-python",
   "name": "python",
   "nbconvert_exporter": "python",
   "pygments_lexer": "ipython2",
   "version": "2.7.10"
  }
 },
 "nbformat": 4,
 "nbformat_minor": 0
}
